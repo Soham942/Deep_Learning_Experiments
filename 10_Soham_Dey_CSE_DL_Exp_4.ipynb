{
  "nbformat": 4,
  "nbformat_minor": 0,
  "metadata": {
    "colab": {
      "provenance": []
    },
    "kernelspec": {
      "name": "python3",
      "display_name": "Python 3"
    },
    "language_info": {
      "name": "python"
    }
  },
  "cells": [
    {
      "cell_type": "code",
      "execution_count": 1,
      "metadata": {
        "id": "UZyd43npQywx"
      },
      "outputs": [],
      "source": [
        "import keras\n",
        "from keras import layers\n",
        "from keras.datasets import mnist\n",
        "import numpy as np"
      ]
    },
    {
      "cell_type": "code",
      "source": [
        "(x_train,_),(x_test,_)= mnist.load_data()"
      ],
      "metadata": {
        "id": "Ckqw6rsdRJ7t"
      },
      "execution_count": 18,
      "outputs": []
    },
    {
      "cell_type": "code",
      "source": [
        "x_train = x_train.astype('float32')/255.\n",
        "x_test = x_test.astype('float32')/255.\n",
        "x_train = x_train.reshape((len(x_train),np.prod(x_train.shape[1:])))\n",
        "x_test = x_test.reshape((len(x_test),np.prod(x_test.shape[1:])))\n",
        "print(x_train.shape)\n",
        "print(x_test.shape)\n"
      ],
      "metadata": {
        "colab": {
          "base_uri": "https://localhost:8080/"
        },
        "id": "wz9ZIbYSRfGc",
        "outputId": "73f0ea9e-1bfd-4614-8f7f-ddb817726698"
      },
      "execution_count": 19,
      "outputs": [
        {
          "output_type": "stream",
          "name": "stdout",
          "text": [
            "(60000, 784)\n",
            "(10000, 784)\n"
          ]
        }
      ]
    },
    {
      "cell_type": "code",
      "source": [
        "encoding_dim = 32\n",
        "input_img = keras.Input(shape=(784,))\n",
        "encoded = layers.Dense(encoding_dim,activation='relu')(input_img)\n",
        "decoded =layers.Dense(784,activation = 'sigmoid')(encoded)\n",
        "autoencoder = keras.Model(input_img,decoded)"
      ],
      "metadata": {
        "id": "NjlfS5GeSZLF"
      },
      "execution_count": 20,
      "outputs": []
    },
    {
      "cell_type": "code",
      "source": [
        "encoder = keras.Model(input_img,encoded)"
      ],
      "metadata": {
        "id": "nf6XwOuRTE0E"
      },
      "execution_count": 21,
      "outputs": []
    },
    {
      "cell_type": "code",
      "source": [
        "encoded_input = keras.Input(shape=(encoding_dim,))\n",
        "decoder_layer = autoencoder.layers[-1]\n",
        "decoder = keras.Model(encoded_input,decoder_layer(encoded_input))"
      ],
      "metadata": {
        "id": "7iNCiUPDTgZt"
      },
      "execution_count": 22,
      "outputs": []
    },
    {
      "cell_type": "code",
      "source": [
        "autoencoder.compile(optimizer='adam',loss='binary_crossentropy')"
      ],
      "metadata": {
        "id": "YPB3EuJfUZPW"
      },
      "execution_count": 23,
      "outputs": []
    },
    {
      "cell_type": "code",
      "source": [
        "autoencoder.fit(x_train,x_train,epochs=20,batch_size=64,shuffle=True,validation_data=(x_test,x_test))"
      ],
      "metadata": {
        "colab": {
          "base_uri": "https://localhost:8080/"
        },
        "id": "csQG66fAUqYD",
        "outputId": "f8391410-6482-48e7-cc45-e0b5cbaad9f3"
      },
      "execution_count": 24,
      "outputs": [
        {
          "output_type": "stream",
          "name": "stdout",
          "text": [
            "Epoch 1/20\n",
            "938/938 [==============================] - 7s 7ms/step - loss: 0.1905 - val_loss: 0.1334\n",
            "Epoch 2/20\n",
            "938/938 [==============================] - 5s 5ms/step - loss: 0.1199 - val_loss: 0.1079\n",
            "Epoch 3/20\n",
            "938/938 [==============================] - 6s 6ms/step - loss: 0.1039 - val_loss: 0.0982\n",
            "Epoch 4/20\n",
            "938/938 [==============================] - 5s 5ms/step - loss: 0.0974 - val_loss: 0.0946\n",
            "Epoch 5/20\n",
            "938/938 [==============================] - 5s 5ms/step - loss: 0.0953 - val_loss: 0.0937\n",
            "Epoch 6/20\n",
            "938/938 [==============================] - 6s 7ms/step - loss: 0.0946 - val_loss: 0.0932\n",
            "Epoch 7/20\n",
            "938/938 [==============================] - 5s 5ms/step - loss: 0.0942 - val_loss: 0.0929\n",
            "Epoch 8/20\n",
            "938/938 [==============================] - 6s 6ms/step - loss: 0.0939 - val_loss: 0.0927\n",
            "Epoch 9/20\n",
            "938/938 [==============================] - 5s 5ms/step - loss: 0.0937 - val_loss: 0.0927\n",
            "Epoch 10/20\n",
            "938/938 [==============================] - 5s 5ms/step - loss: 0.0936 - val_loss: 0.0923\n",
            "Epoch 11/20\n",
            "938/938 [==============================] - 6s 6ms/step - loss: 0.0935 - val_loss: 0.0923\n",
            "Epoch 12/20\n",
            "938/938 [==============================] - 5s 5ms/step - loss: 0.0935 - val_loss: 0.0923\n",
            "Epoch 13/20\n",
            "938/938 [==============================] - 6s 7ms/step - loss: 0.0934 - val_loss: 0.0923\n",
            "Epoch 14/20\n",
            "938/938 [==============================] - 5s 5ms/step - loss: 0.0933 - val_loss: 0.0922\n",
            "Epoch 15/20\n",
            "938/938 [==============================] - 6s 6ms/step - loss: 0.0933 - val_loss: 0.0921\n",
            "Epoch 16/20\n",
            "938/938 [==============================] - 5s 6ms/step - loss: 0.0933 - val_loss: 0.0921\n",
            "Epoch 17/20\n",
            "938/938 [==============================] - 5s 5ms/step - loss: 0.0932 - val_loss: 0.0919\n",
            "Epoch 18/20\n",
            "938/938 [==============================] - 6s 7ms/step - loss: 0.0932 - val_loss: 0.0921\n",
            "Epoch 19/20\n",
            "938/938 [==============================] - 5s 5ms/step - loss: 0.0931 - val_loss: 0.0919\n",
            "Epoch 20/20\n",
            "938/938 [==============================] - 6s 6ms/step - loss: 0.0931 - val_loss: 0.0920\n"
          ]
        },
        {
          "output_type": "execute_result",
          "data": {
            "text/plain": [
              "<keras.callbacks.History at 0x7d07d06eaaa0>"
            ]
          },
          "metadata": {},
          "execution_count": 24
        }
      ]
    },
    {
      "cell_type": "code",
      "source": [
        "encoded_imgs = encoder.predict(x_test)\n",
        "decoded_imgs = decoder.predict(encoded_imgs)"
      ],
      "metadata": {
        "colab": {
          "base_uri": "https://localhost:8080/"
        },
        "id": "PN2z4s4GYKO8",
        "outputId": "3e3a9daf-1c65-4f3a-e9d9-0fe007082d6f"
      },
      "execution_count": 26,
      "outputs": [
        {
          "output_type": "stream",
          "name": "stdout",
          "text": [
            "313/313 [==============================] - 0s 1ms/step\n",
            "313/313 [==============================] - 0s 1ms/step\n"
          ]
        }
      ]
    },
    {
      "cell_type": "code",
      "source": [
        "import matplotlib.pyplot as plt\n",
        "\n",
        "n = 10\n",
        "plt.figure(figsize = (20,4))\n",
        "for i in range(n):\n",
        "\n",
        "  ax = plt.subplot(2,n,i+1)\n",
        "  plt.imshow(x_test[i].reshape(28,28))\n",
        "  plt.gray()\n",
        "  ax.get_xaxis().set_visible(False)\n",
        "  ax.get_yaxis().set_visible(False)\n",
        "\n",
        "  ax=plt.subplot(2,n,i+1+n)\n",
        "  plt.imshow(decoded_imgs[i].reshape(28,28))\n",
        "  plt.gray()\n",
        "  ax.get_xaxis().set_visible(False)\n",
        "  ax.get_yaxis().set_visible(False)\n",
        "  plt.show()\n",
        "\n"
      ],
      "metadata": {
        "colab": {
          "base_uri": "https://localhost:8080/",
          "height": 1000
        },
        "id": "egTSFh5mZBlz",
        "outputId": "96fce5ee-edf8-41c2-e299-ff352587ab30"
      },
      "execution_count": 28,
      "outputs": [
        {
          "output_type": "display_data",
          "data": {
            "text/plain": [
              "<Figure size 2000x400 with 2 Axes>"
            ],
            "image/png": "[encoded data removed]"
          },
          "metadata": {}
        },
        {
          "output_type": "display_data",
          "data": {
            "text/plain": [
              "<Figure size 640x480 with 2 Axes>"
            ],
            "image/png": "[encoded data removed]"
          },
          "metadata": {}
        },
        {
          "output_type": "display_data",
          "data": {
            "text/plain": [
              "<Figure size 640x480 with 2 Axes>"
            ],
            "image/png": "[encoded data removed]"
          },
          "metadata": {}
        },
        {
          "output_type": "display_data",
          "data": {
            "text/plain": [
              "<Figure size 640x480 with 2 Axes>"
            ],
            "image/png": "[encoded data removed]"
          },
          "metadata": {}
        },
        {
          "output_type": "display_data",
          "data": {
            "text/plain": [
              "<Figure size 640x480 with 2 Axes>"
            ],
            "image/png": "[encoded data removed]"
          },
          "metadata": {}
        },
        {
          "output_type": "display_data",
          "data": {
            "text/plain": [
              "<Figure size 640x480 with 2 Axes>"
            ],
            "image/png": "[encoded data removed]"
          },
          "metadata": {}
        },
        {
          "output_type": "display_data",
          "data": {
            "text/plain": [
              "<Figure size 640x480 with 2 Axes>"
            ],
            "image/png": "[encoded data removed]"
          },
          "metadata": {}
        },
        {
          "output_type": "display_data",
          "data": {
            "text/plain": [
              "<Figure size 640x480 with 2 Axes>"
            ],
            "image/png": "[encoded data removed]"
          },
          "metadata": {}
        },
        {
          "output_type": "display_data",
          "data": {
            "text/plain": [
              "<Figure size 640x480 with 2 Axes>"
            ],
            "image/png": "[encoded data removed]"
          },
          "metadata": {}
        },
        {
          "output_type": "display_data",
          "data": {
            "text/plain": [
              "<Figure size 640x480 with 2 Axes>"
            ],
            "image/png": "[encoded data removed]"
          },
          "metadata": {}
        }
      ]
    }
  ]
}